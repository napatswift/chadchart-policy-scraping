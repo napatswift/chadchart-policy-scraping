{
  "nbformat": 4,
  "nbformat_minor": 0,
  "metadata": {
    "colab": {
      "name": "Untitled5.ipynb",
      "provenance": []
    },
    "kernelspec": {
      "name": "python3",
      "display_name": "Python 3"
    },
    "language_info": {
      "name": "python"
    }
  },
  "cells": [
    {
      "cell_type": "code",
      "execution_count": 33,
      "metadata": {
        "id": "adQJkUJQlE0t"
      },
      "outputs": [],
      "source": [
        "from bs4 import BeautifulSoup\n",
        "import requests\n",
        "import json"
      ]
    },
    {
      "cell_type": "code",
      "source": [
        "root_url = 'https://www.chadchart.com'"
      ],
      "metadata": {
        "id": "5M3mWlUToN22"
      },
      "execution_count": 2,
      "outputs": []
    },
    {
      "cell_type": "code",
      "source": [
        "def get_soup(url):\n",
        "  url = requests.get(url)\n",
        "  return BeautifulSoup(url.content, \"html.parser\")"
      ],
      "metadata": {
        "id": "ZgAhrohFoUWq"
      },
      "execution_count": 3,
      "outputs": []
    },
    {
      "cell_type": "code",
      "source": [
        "policy_soup = get_soup(f\"{root_url}/policy\")"
      ],
      "metadata": {
        "id": "WW32P_OHlPLy"
      },
      "execution_count": 4,
      "outputs": []
    },
    {
      "cell_type": "code",
      "source": [
        "policies = []\n",
        "\n",
        "for list_card in policy_soup.find_all('a', {'class': 'list-card'}):\n",
        "  name = list_card.find('div', {'class': 'name'})\n",
        "  description = list_card.find('div', {'class': 'description'})\n",
        "  tags = list_card.findAll('span', {'class': 'tag'})\n",
        "\n",
        "  p_soup = get_soup(root_url + list_card.get(\"href\"))\n",
        "  content = []\n",
        "  content_soup = p_soup.find('div', {'class': 'content'})\n",
        "  if content_soup == None: print(root_url + list_card.get(\"href\"))\n",
        "  else:\n",
        "    for child in content_soup.find('div').children:\n",
        "      if child.text.strip():\n",
        "        content.append(child)\n",
        "\n",
        "  policies.append({\n",
        "      'name': name.text.strip(),\n",
        "      'description': description.text.strip(),\n",
        "      'url': root_url + list_card.get(\"href\"),\n",
        "      'tags': [tag.text.strip() for tag in tags],\n",
        "      'content': content\n",
        "      })"
      ],
      "metadata": {
        "id": "URHwDmdUlR4Y",
        "colab": {
          "base_uri": "https://localhost:8080/"
        },
        "outputId": "17914921-85e8-488a-96d2-3d5b4fcbb030"
      },
      "execution_count": 31,
      "outputs": [
        {
          "output_type": "stream",
          "name": "stdout",
          "text": [
            "https://www.chadchart.com/policy/62175e7d4e43cd8b4760bc8d\n",
            "https://www.chadchart.com/policy/6216891d4e43cd8b4760bc52\n",
            "https://www.chadchart.com/policy/621a701a4e43cd8b4760bcc9\n"
          ]
        }
      ]
    },
    {
      "cell_type": "code",
      "source": [
        "for policy in policies:\n",
        "  for tag in policy['content']:\n",
        "    if tag.name == 'h4':\n",
        "      # print(tag.text)\n",
        "      pass\n",
        "    elif tag.text.strip() == 'คนกรุงเทพฯ ได้อะไร':\n",
        "      print(tag.name)"
      ],
      "metadata": {
        "colab": {
          "base_uri": "https://localhost:8080/"
        },
        "id": "R75wuRzjdDft",
        "outputId": "d0a50109-fc41-4e15-b4d1-7f4435d0568f"
      },
      "execution_count": 48,
      "outputs": [
        {
          "output_type": "stream",
          "name": "stdout",
          "text": [
            "p\n"
          ]
        }
      ]
    },
    {
      "cell_type": "code",
      "source": [
        "with open('chadchart-policy.json', 'w') as fp:\n",
        "  temp_policies = []\n",
        "  for policy in policies:\n",
        "    temp_policy = policy.copy()\n",
        "    temp_policy['content'] = [str(c) for c in temp_policy['content']]\n",
        "    temp_policies.append(temp_policy)\n",
        "\n",
        "  json.dump(temp_policies, fp, ensure_ascii=False)"
      ],
      "metadata": {
        "id": "42W4dm1CZ3K6"
      },
      "execution_count": 49,
      "outputs": []
    },
    {
      "cell_type": "code",
      "source": [
        "with open('chadchart-policy-text.json', 'w') as fp:\n",
        "  temp_policies = []\n",
        "  for policy in policies:\n",
        "    temp_policy = policy.copy()\n",
        "    temp_policy['content'] = [c.text.strip() for c in temp_policy['content'] if c.text.strip()]\n",
        "    temp_policies.append(temp_policy)\n",
        "\n",
        "  json.dump(temp_policies, fp, ensure_ascii=False)"
      ],
      "metadata": {
        "id": "hOIIEtUifJjK"
      },
      "execution_count": 50,
      "outputs": []
    },
    {
      "cell_type": "code",
      "source": [
        ""
      ],
      "metadata": {
        "id": "y31-ZTjTZQ6R"
      },
      "execution_count": null,
      "outputs": []
    }
  ]
}